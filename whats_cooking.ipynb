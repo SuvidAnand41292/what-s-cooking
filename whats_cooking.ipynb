{
 "cells": [
  {
   "cell_type": "markdown",
   "metadata": {},
   "source": [
    "# import useful libraries"
   ]
  },
  {
   "cell_type": "code",
   "execution_count": 105,
   "metadata": {},
   "outputs": [],
   "source": [
    "import numpy as np\n",
    "import pandas as pd\n",
    "\n",
    "import nltk\n",
    "from nltk.stem import WordNetLemmatizer\n",
    "\n",
    "from sklearn.feature_extraction.text import TfidfVectorizer\n",
    "from sklearn.preprocessing import LabelEncoder\n",
    "from sklearn.model_selection import train_test_split\n",
    "\n",
    "from keras.layers import Dense, Input, Activation, Conv1D\n",
    "from keras.layers import Dropout, MaxPooling1D, Flatten, Reshape\n",
    "from keras.models import Sequential, Model, load_model\n",
    "from keras.callbacks import ModelCheckpoint, EarlyStopping\n",
    "from keras.utils import np_utils\n",
    "\n",
    "import re\n",
    "\n",
    "import matplotlib.pyplot as plt\n",
    "import seaborn as sns\n",
    "sns.set_style('white')\n",
    "%matplotlib inline"
   ]
  },
  {
   "cell_type": "code",
   "execution_count": 106,
   "metadata": {
    "collapsed": true
   },
   "outputs": [],
   "source": [
    "df_train = pd.read_json('train.json')\n",
    "df_test = pd.read_json('test.json')"
   ]
  },
  {
   "cell_type": "markdown",
   "metadata": {},
   "source": [
    "# EDA"
   ]
  },
  {
   "cell_type": "code",
   "execution_count": 107,
   "metadata": {},
   "outputs": [
    {
     "data": {
      "text/html": [
       "<div>\n",
       "<style>\n",
       "    .dataframe thead tr:only-child th {\n",
       "        text-align: right;\n",
       "    }\n",
       "\n",
       "    .dataframe thead th {\n",
       "        text-align: left;\n",
       "    }\n",
       "\n",
       "    .dataframe tbody tr th {\n",
       "        vertical-align: top;\n",
       "    }\n",
       "</style>\n",
       "<table border=\"1\" class=\"dataframe\">\n",
       "  <thead>\n",
       "    <tr style=\"text-align: right;\">\n",
       "      <th></th>\n",
       "      <th>cuisine</th>\n",
       "      <th>id</th>\n",
       "      <th>ingredients</th>\n",
       "    </tr>\n",
       "  </thead>\n",
       "  <tbody>\n",
       "    <tr>\n",
       "      <th>0</th>\n",
       "      <td>greek</td>\n",
       "      <td>10259</td>\n",
       "      <td>[romaine lettuce, black olives, grape tomatoes...</td>\n",
       "    </tr>\n",
       "    <tr>\n",
       "      <th>1</th>\n",
       "      <td>southern_us</td>\n",
       "      <td>25693</td>\n",
       "      <td>[plain flour, ground pepper, salt, tomatoes, g...</td>\n",
       "    </tr>\n",
       "    <tr>\n",
       "      <th>2</th>\n",
       "      <td>filipino</td>\n",
       "      <td>20130</td>\n",
       "      <td>[eggs, pepper, salt, mayonaise, cooking oil, g...</td>\n",
       "    </tr>\n",
       "    <tr>\n",
       "      <th>3</th>\n",
       "      <td>indian</td>\n",
       "      <td>22213</td>\n",
       "      <td>[water, vegetable oil, wheat, salt]</td>\n",
       "    </tr>\n",
       "    <tr>\n",
       "      <th>4</th>\n",
       "      <td>indian</td>\n",
       "      <td>13162</td>\n",
       "      <td>[black pepper, shallots, cornflour, cayenne pe...</td>\n",
       "    </tr>\n",
       "  </tbody>\n",
       "</table>\n",
       "</div>"
      ],
      "text/plain": [
       "       cuisine     id                                        ingredients\n",
       "0        greek  10259  [romaine lettuce, black olives, grape tomatoes...\n",
       "1  southern_us  25693  [plain flour, ground pepper, salt, tomatoes, g...\n",
       "2     filipino  20130  [eggs, pepper, salt, mayonaise, cooking oil, g...\n",
       "3       indian  22213                [water, vegetable oil, wheat, salt]\n",
       "4       indian  13162  [black pepper, shallots, cornflour, cayenne pe..."
      ]
     },
     "execution_count": 107,
     "metadata": {},
     "output_type": "execute_result"
    }
   ],
   "source": [
    "df_train.head()"
   ]
  },
  {
   "cell_type": "code",
   "execution_count": 108,
   "metadata": {},
   "outputs": [
    {
     "data": {
      "text/html": [
       "<div>\n",
       "<style>\n",
       "    .dataframe thead tr:only-child th {\n",
       "        text-align: right;\n",
       "    }\n",
       "\n",
       "    .dataframe thead th {\n",
       "        text-align: left;\n",
       "    }\n",
       "\n",
       "    .dataframe tbody tr th {\n",
       "        vertical-align: top;\n",
       "    }\n",
       "</style>\n",
       "<table border=\"1\" class=\"dataframe\">\n",
       "  <thead>\n",
       "    <tr style=\"text-align: right;\">\n",
       "      <th></th>\n",
       "      <th>id</th>\n",
       "      <th>ingredients</th>\n",
       "    </tr>\n",
       "  </thead>\n",
       "  <tbody>\n",
       "    <tr>\n",
       "      <th>0</th>\n",
       "      <td>18009</td>\n",
       "      <td>[baking powder, eggs, all-purpose flour, raisi...</td>\n",
       "    </tr>\n",
       "    <tr>\n",
       "      <th>1</th>\n",
       "      <td>28583</td>\n",
       "      <td>[sugar, egg yolks, corn starch, cream of tarta...</td>\n",
       "    </tr>\n",
       "    <tr>\n",
       "      <th>2</th>\n",
       "      <td>41580</td>\n",
       "      <td>[sausage links, fennel bulb, fronds, olive oil...</td>\n",
       "    </tr>\n",
       "    <tr>\n",
       "      <th>3</th>\n",
       "      <td>29752</td>\n",
       "      <td>[meat cuts, file powder, smoked sausage, okra,...</td>\n",
       "    </tr>\n",
       "    <tr>\n",
       "      <th>4</th>\n",
       "      <td>35687</td>\n",
       "      <td>[ground black pepper, salt, sausage casings, l...</td>\n",
       "    </tr>\n",
       "  </tbody>\n",
       "</table>\n",
       "</div>"
      ],
      "text/plain": [
       "      id                                        ingredients\n",
       "0  18009  [baking powder, eggs, all-purpose flour, raisi...\n",
       "1  28583  [sugar, egg yolks, corn starch, cream of tarta...\n",
       "2  41580  [sausage links, fennel bulb, fronds, olive oil...\n",
       "3  29752  [meat cuts, file powder, smoked sausage, okra,...\n",
       "4  35687  [ground black pepper, salt, sausage casings, l..."
      ]
     },
     "execution_count": 108,
     "metadata": {},
     "output_type": "execute_result"
    }
   ],
   "source": [
    "df_test.head()"
   ]
  },
  {
   "cell_type": "code",
   "execution_count": 109,
   "metadata": {},
   "outputs": [
    {
     "name": "stdout",
     "output_type": "stream",
     "text": [
      "<class 'pandas.core.frame.DataFrame'>\n",
      "RangeIndex: 39774 entries, 0 to 39773\n",
      "Data columns (total 3 columns):\n",
      "cuisine        39774 non-null object\n",
      "id             39774 non-null int64\n",
      "ingredients    39774 non-null object\n",
      "dtypes: int64(1), object(2)\n",
      "memory usage: 932.3+ KB\n"
     ]
    }
   ],
   "source": [
    "df_train.info()"
   ]
  },
  {
   "cell_type": "code",
   "execution_count": 112,
   "metadata": {},
   "outputs": [
    {
     "name": "stdout",
     "output_type": "stream",
     "text": [
      "['greek' 'southern_us' 'filipino' 'indian' 'jamaican' 'spanish' 'italian'\n",
      " 'mexican' 'chinese' 'british' 'thai' 'vietnamese' 'cajun_creole'\n",
      " 'brazilian' 'french' 'japanese' 'irish' 'korean' 'moroccan' 'russian']\n",
      "\n",
      "\n",
      "20\n"
     ]
    }
   ],
   "source": [
    "print(df_train['cuisine'].unique())\n",
    "print(\"\\n\")\n",
    "print(df_train['cuisine'].nunique())\n"
   ]
  },
  {
   "cell_type": "code",
   "execution_count": 113,
   "metadata": {},
   "outputs": [
    {
     "data": {
      "text/plain": [
       "italian         7838\n",
       "mexican         6438\n",
       "southern_us     4320\n",
       "indian          3003\n",
       "chinese         2673\n",
       "french          2646\n",
       "cajun_creole    1546\n",
       "thai            1539\n",
       "japanese        1423\n",
       "greek           1175\n",
       "spanish          989\n",
       "korean           830\n",
       "vietnamese       825\n",
       "moroccan         821\n",
       "british          804\n",
       "filipino         755\n",
       "irish            667\n",
       "jamaican         526\n",
       "russian          489\n",
       "brazilian        467\n",
       "Name: cuisine, dtype: int64"
      ]
     },
     "execution_count": 113,
     "metadata": {},
     "output_type": "execute_result"
    }
   ],
   "source": [
    "df_train['cuisine'].value_counts()"
   ]
  },
  {
   "cell_type": "code",
   "execution_count": 114,
   "metadata": {},
   "outputs": [
    {
     "data": {
      "text/plain": [
       "<matplotlib.axes._subplots.AxesSubplot at 0x197109a7828>"
      ]
     },
     "execution_count": 114,
     "metadata": {},
     "output_type": "execute_result"
    },
    {
     "data": {
      "image/png": "[encoded data removed]",
      "text/plain": [
       "<matplotlib.figure.Figure at 0x197109fdb70>"
      ]
     },
     "metadata": {},
     "output_type": "display_data"
    }
   ],
   "source": [
    "plt.figure(figsize=(15,5))\n",
    "sns.countplot(x = \"cuisine\", data = df_train)"
   ]
  },
  {
   "cell_type": "code",
   "execution_count": 115,
   "metadata": {},
   "outputs": [
    {
     "data": {
      "text/plain": [
       "<matplotlib.axes._subplots.AxesSubplot at 0x197107dceb8>"
      ]
     },
     "execution_count": 115,
     "metadata": {},
     "output_type": "execute_result"
    },
    {
     "data": {
      "image/png": "[encoded data removed]",
      "text/plain": [
       "<matplotlib.figure.Figure at 0x19710a0bf28>"
      ]
     },
     "metadata": {},
     "output_type": "display_data"
    }
   ],
   "source": [
    "df_train['n_ingredients'] = df_train['ingredients'].apply(len)\n",
    "sns.countplot(x='n_ingredients',data=df_train,palette='rainbow')"
   ]
  },
  {
   "cell_type": "code",
   "execution_count": 116,
   "metadata": {},
   "outputs": [
    {
     "data": {
      "text/html": [
       "<div>\n",
       "<style>\n",
       "    .dataframe thead tr:only-child th {\n",
       "        text-align: right;\n",
       "    }\n",
       "\n",
       "    .dataframe thead th {\n",
       "        text-align: left;\n",
       "    }\n",
       "\n",
       "    .dataframe tbody tr th {\n",
       "        vertical-align: top;\n",
       "    }\n",
       "</style>\n",
       "<table border=\"1\" class=\"dataframe\">\n",
       "  <thead>\n",
       "    <tr style=\"text-align: right;\">\n",
       "      <th></th>\n",
       "      <th>cuisine</th>\n",
       "      <th>id</th>\n",
       "      <th>ingredients</th>\n",
       "      <th>n_ingredients</th>\n",
       "    </tr>\n",
       "  </thead>\n",
       "  <tbody>\n",
       "    <tr>\n",
       "      <th>940</th>\n",
       "      <td>japanese</td>\n",
       "      <td>4734</td>\n",
       "      <td>[sushi rice]</td>\n",
       "      <td>1</td>\n",
       "    </tr>\n",
       "    <tr>\n",
       "      <th>2088</th>\n",
       "      <td>vietnamese</td>\n",
       "      <td>7833</td>\n",
       "      <td>[dried rice noodles]</td>\n",
       "      <td>1</td>\n",
       "    </tr>\n",
       "    <tr>\n",
       "      <th>6787</th>\n",
       "      <td>indian</td>\n",
       "      <td>36818</td>\n",
       "      <td>[plain low-fat yogurt]</td>\n",
       "      <td>1</td>\n",
       "    </tr>\n",
       "    <tr>\n",
       "      <th>7011</th>\n",
       "      <td>indian</td>\n",
       "      <td>19772</td>\n",
       "      <td>[unsalted butter]</td>\n",
       "      <td>1</td>\n",
       "    </tr>\n",
       "    <tr>\n",
       "      <th>8181</th>\n",
       "      <td>japanese</td>\n",
       "      <td>16116</td>\n",
       "      <td>[udon]</td>\n",
       "      <td>1</td>\n",
       "    </tr>\n",
       "    <tr>\n",
       "      <th>8852</th>\n",
       "      <td>thai</td>\n",
       "      <td>29738</td>\n",
       "      <td>[sticky rice]</td>\n",
       "      <td>1</td>\n",
       "    </tr>\n",
       "    <tr>\n",
       "      <th>8990</th>\n",
       "      <td>indian</td>\n",
       "      <td>41124</td>\n",
       "      <td>[butter]</td>\n",
       "      <td>1</td>\n",
       "    </tr>\n",
       "    <tr>\n",
       "      <th>10506</th>\n",
       "      <td>mexican</td>\n",
       "      <td>32631</td>\n",
       "      <td>[corn tortillas]</td>\n",
       "      <td>1</td>\n",
       "    </tr>\n",
       "    <tr>\n",
       "      <th>13178</th>\n",
       "      <td>thai</td>\n",
       "      <td>29570</td>\n",
       "      <td>[grained]</td>\n",
       "      <td>1</td>\n",
       "    </tr>\n",
       "    <tr>\n",
       "      <th>17804</th>\n",
       "      <td>southern_us</td>\n",
       "      <td>29849</td>\n",
       "      <td>[lemonade concentrate]</td>\n",
       "      <td>1</td>\n",
       "    </tr>\n",
       "    <tr>\n",
       "      <th>18136</th>\n",
       "      <td>thai</td>\n",
       "      <td>39186</td>\n",
       "      <td>[jasmine rice]</td>\n",
       "      <td>1</td>\n",
       "    </tr>\n",
       "    <tr>\n",
       "      <th>18324</th>\n",
       "      <td>indian</td>\n",
       "      <td>14335</td>\n",
       "      <td>[unsalted butter]</td>\n",
       "      <td>1</td>\n",
       "    </tr>\n",
       "    <tr>\n",
       "      <th>21008</th>\n",
       "      <td>italian</td>\n",
       "      <td>39221</td>\n",
       "      <td>[cherry tomatoes]</td>\n",
       "      <td>1</td>\n",
       "    </tr>\n",
       "    <tr>\n",
       "      <th>22119</th>\n",
       "      <td>french</td>\n",
       "      <td>41135</td>\n",
       "      <td>[butter]</td>\n",
       "      <td>1</td>\n",
       "    </tr>\n",
       "    <tr>\n",
       "      <th>22387</th>\n",
       "      <td>indian</td>\n",
       "      <td>36874</td>\n",
       "      <td>[cumin seed]</td>\n",
       "      <td>1</td>\n",
       "    </tr>\n",
       "    <tr>\n",
       "      <th>23512</th>\n",
       "      <td>french</td>\n",
       "      <td>35028</td>\n",
       "      <td>[haricots verts]</td>\n",
       "      <td>1</td>\n",
       "    </tr>\n",
       "    <tr>\n",
       "      <th>26887</th>\n",
       "      <td>mexican</td>\n",
       "      <td>18593</td>\n",
       "      <td>[vegetable oil]</td>\n",
       "      <td>1</td>\n",
       "    </tr>\n",
       "    <tr>\n",
       "      <th>29294</th>\n",
       "      <td>spanish</td>\n",
       "      <td>7460</td>\n",
       "      <td>[spanish chorizo]</td>\n",
       "      <td>1</td>\n",
       "    </tr>\n",
       "    <tr>\n",
       "      <th>30636</th>\n",
       "      <td>spanish</td>\n",
       "      <td>32772</td>\n",
       "      <td>[sweetened condensed milk]</td>\n",
       "      <td>1</td>\n",
       "    </tr>\n",
       "    <tr>\n",
       "      <th>32105</th>\n",
       "      <td>japanese</td>\n",
       "      <td>12805</td>\n",
       "      <td>[water]</td>\n",
       "      <td>1</td>\n",
       "    </tr>\n",
       "    <tr>\n",
       "      <th>34531</th>\n",
       "      <td>greek</td>\n",
       "      <td>10816</td>\n",
       "      <td>[phyllo]</td>\n",
       "      <td>1</td>\n",
       "    </tr>\n",
       "    <tr>\n",
       "      <th>37220</th>\n",
       "      <td>indian</td>\n",
       "      <td>27192</td>\n",
       "      <td>[unsalted butter]</td>\n",
       "      <td>1</td>\n",
       "    </tr>\n",
       "  </tbody>\n",
       "</table>\n",
       "</div>"
      ],
      "text/plain": [
       "           cuisine     id                 ingredients  n_ingredients\n",
       "940       japanese   4734                [sushi rice]              1\n",
       "2088    vietnamese   7833        [dried rice noodles]              1\n",
       "6787        indian  36818      [plain low-fat yogurt]              1\n",
       "7011        indian  19772           [unsalted butter]              1\n",
       "8181      japanese  16116                      [udon]              1\n",
       "8852          thai  29738               [sticky rice]              1\n",
       "8990        indian  41124                    [butter]              1\n",
       "10506      mexican  32631            [corn tortillas]              1\n",
       "13178         thai  29570                   [grained]              1\n",
       "17804  southern_us  29849      [lemonade concentrate]              1\n",
       "18136         thai  39186              [jasmine rice]              1\n",
       "18324       indian  14335           [unsalted butter]              1\n",
       "21008      italian  39221           [cherry tomatoes]              1\n",
       "22119       french  41135                    [butter]              1\n",
       "22387       indian  36874                [cumin seed]              1\n",
       "23512       french  35028            [haricots verts]              1\n",
       "26887      mexican  18593             [vegetable oil]              1\n",
       "29294      spanish   7460           [spanish chorizo]              1\n",
       "30636      spanish  32772  [sweetened condensed milk]              1\n",
       "32105     japanese  12805                     [water]              1\n",
       "34531        greek  10816                    [phyllo]              1\n",
       "37220       indian  27192           [unsalted butter]              1"
      ]
     },
     "execution_count": 116,
     "metadata": {},
     "output_type": "execute_result"
    }
   ],
   "source": [
    "df_train[(df_train['n_ingredients'] == 1)]"
   ]
  },
  {
   "cell_type": "code",
   "execution_count": 117,
   "metadata": {},
   "outputs": [
    {
     "data": {
      "text/plain": [
       "<matplotlib.axes._subplots.AxesSubplot at 0x19713c11f60>"
      ]
     },
     "execution_count": 117,
     "metadata": {},
     "output_type": "execute_result"
    },
    {
     "data": {
      "image/png": "[encoded data removed]",
      "text/plain": [
       "<matplotlib.figure.Figure at 0x197109aa080>"
      ]
     },
     "metadata": {},
     "output_type": "display_data"
    }
   ],
   "source": [
    "plt.figure(figsize=(15,5))\n",
    "sns.boxplot(x = \"cuisine\", y = \"n_ingredients\", data = df_train)"
   ]
  },
  {
   "cell_type": "code",
   "execution_count": 118,
   "metadata": {},
   "outputs": [
    {
     "data": {
      "text/plain": [
       "<matplotlib.axes._subplots.AxesSubplot at 0x1971b60b160>"
      ]
     },
     "execution_count": 118,
     "metadata": {},
     "output_type": "execute_result"
    },
    {
     "data": {
      "image/png": "[encoded data removed]",
      "text/plain": [
       "<matplotlib.figure.Figure at 0x197137313c8>"
      ]
     },
     "metadata": {},
     "output_type": "display_data"
    }
   ],
   "source": [
    "#check missing values if any\n",
    "sns.heatmap(df_train.isnull(),yticklabels=False,cbar=False,cmap='viridis')"
   ]
  },
  {
   "cell_type": "markdown",
   "metadata": {},
   "source": [
    "# Text preprocessing"
   ]
  },
  {
   "cell_type": "code",
   "execution_count": 119,
   "metadata": {
    "collapsed": true
   },
   "outputs": [],
   "source": [
    "df_train['ingredients'] = df_train['ingredients'].apply(lambda x: (\" \".join(x)).lower())\n",
    "df_test['ingredients'] = df_test['ingredients'].apply(lambda x: (\" \".join(x)).lower())"
   ]
  },
  {
   "cell_type": "code",
   "execution_count": 120,
   "metadata": {
    "collapsed": true
   },
   "outputs": [],
   "source": [
    "#removing special characters\n",
    "df_train['ingredients'] = df_train['ingredients'].apply(lambda x: re.sub(r'[^\\w\\d ,]','', x))\n",
    "df_test['ingredients'] = df_test['ingredients'].apply(lambda x: re.sub(r'[^\\w\\d ,]','', x))"
   ]
  },
  {
   "cell_type": "code",
   "execution_count": 121,
   "metadata": {
    "collapsed": true
   },
   "outputs": [],
   "source": [
    "#grouping different inflected forms of a word using lemmatization\n",
    "lemmatizer = WordNetLemmatizer()\n",
    "df_train['ingredients'] = df_train['ingredients'].apply(lemmatizer.lemmatize)\n",
    "df_test['ingredients'] = df_test['ingredients'].apply(lemmatizer.lemmatize)"
   ]
  },
  {
   "cell_type": "code",
   "execution_count": 122,
   "metadata": {},
   "outputs": [
    {
     "data": {
      "text/html": [
       "<div>\n",
       "<style>\n",
       "    .dataframe thead tr:only-child th {\n",
       "        text-align: right;\n",
       "    }\n",
       "\n",
       "    .dataframe thead th {\n",
       "        text-align: left;\n",
       "    }\n",
       "\n",
       "    .dataframe tbody tr th {\n",
       "        vertical-align: top;\n",
       "    }\n",
       "</style>\n",
       "<table border=\"1\" class=\"dataframe\">\n",
       "  <thead>\n",
       "    <tr style=\"text-align: right;\">\n",
       "      <th></th>\n",
       "      <th>cuisine</th>\n",
       "      <th>id</th>\n",
       "      <th>ingredients</th>\n",
       "      <th>n_ingredients</th>\n",
       "    </tr>\n",
       "  </thead>\n",
       "  <tbody>\n",
       "    <tr>\n",
       "      <th>0</th>\n",
       "      <td>greek</td>\n",
       "      <td>10259</td>\n",
       "      <td>romaine lettuce black olives grape tomatoes ga...</td>\n",
       "      <td>9</td>\n",
       "    </tr>\n",
       "    <tr>\n",
       "      <th>1</th>\n",
       "      <td>southern_us</td>\n",
       "      <td>25693</td>\n",
       "      <td>plain flour ground pepper salt tomatoes ground...</td>\n",
       "      <td>11</td>\n",
       "    </tr>\n",
       "    <tr>\n",
       "      <th>2</th>\n",
       "      <td>filipino</td>\n",
       "      <td>20130</td>\n",
       "      <td>eggs pepper salt mayonaise cooking oil green c...</td>\n",
       "      <td>12</td>\n",
       "    </tr>\n",
       "    <tr>\n",
       "      <th>3</th>\n",
       "      <td>indian</td>\n",
       "      <td>22213</td>\n",
       "      <td>water vegetable oil wheat salt</td>\n",
       "      <td>4</td>\n",
       "    </tr>\n",
       "    <tr>\n",
       "      <th>4</th>\n",
       "      <td>indian</td>\n",
       "      <td>13162</td>\n",
       "      <td>black pepper shallots cornflour cayenne pepper...</td>\n",
       "      <td>20</td>\n",
       "    </tr>\n",
       "  </tbody>\n",
       "</table>\n",
       "</div>"
      ],
      "text/plain": [
       "       cuisine     id                                        ingredients  \\\n",
       "0        greek  10259  romaine lettuce black olives grape tomatoes ga...   \n",
       "1  southern_us  25693  plain flour ground pepper salt tomatoes ground...   \n",
       "2     filipino  20130  eggs pepper salt mayonaise cooking oil green c...   \n",
       "3       indian  22213                     water vegetable oil wheat salt   \n",
       "4       indian  13162  black pepper shallots cornflour cayenne pepper...   \n",
       "\n",
       "   n_ingredients  \n",
       "0              9  \n",
       "1             11  \n",
       "2             12  \n",
       "3              4  \n",
       "4             20  "
      ]
     },
     "execution_count": 122,
     "metadata": {},
     "output_type": "execute_result"
    }
   ],
   "source": [
    "df_train.head()"
   ]
  },
  {
   "cell_type": "code",
   "execution_count": 123,
   "metadata": {
    "collapsed": true
   },
   "outputs": [],
   "source": [
    "#TF_IDF\n",
    "tfidf = TfidfVectorizer(binary=True)\n",
    "\n",
    "x_train = tfidf.fit_transform(df_train['ingredients']).todense()\n",
    "x_test = tfidf.transform(df_test['ingredients']).todense()"
   ]
  },
  {
   "cell_type": "code",
   "execution_count": 124,
   "metadata": {},
   "outputs": [
    {
     "name": "stdout",
     "output_type": "stream",
     "text": [
      "(39774, 3108) (9944, 3108)\n"
     ]
    }
   ],
   "source": [
    "print(x_train.shape, x_test.shape)"
   ]
  },
  {
   "cell_type": "code",
   "execution_count": 125,
   "metadata": {},
   "outputs": [
    {
     "name": "stdout",
     "output_type": "stream",
     "text": [
      "(39774, 20)\n"
     ]
    }
   ],
   "source": [
    "# encoding the labels\n",
    "\n",
    "lb = LabelEncoder()\n",
    "\n",
    "y = lb.fit_transform(df_train['cuisine'])\n",
    "y = np_utils.to_categorical(y)\n",
    "print(y.shape)"
   ]
  },
  {
   "cell_type": "code",
   "execution_count": 126,
   "metadata": {},
   "outputs": [
    {
     "name": "stdout",
     "output_type": "stream",
     "text": [
      "(27841, 3108) (27841, 20) (11933, 3108) (11933, 20)\n"
     ]
    }
   ],
   "source": [
    "#Train-Test Split\n",
    "x_train, x_val, y_train, y_val = train_test_split(x_train, y, test_size=0.3, random_state=101)\n",
    "\n",
    "print(x_train.shape, y_train.shape, x_val.shape, y_val.shape)"
   ]
  },
  {
   "cell_type": "markdown",
   "metadata": {},
   "source": [
    "# Model Development"
   ]
  },
  {
   "cell_type": "code",
   "execution_count": 127,
   "metadata": {},
   "outputs": [
    {
     "name": "stdout",
     "output_type": "stream",
     "text": [
      "_________________________________________________________________\n",
      "Layer (type)                 Output Shape              Param #   \n",
      "=================================================================\n",
      "dense_4 (Dense)              (None, 512)               1591808   \n",
      "_________________________________________________________________\n",
      "dropout_6 (Dropout)          (None, 512)               0         \n",
      "_________________________________________________________________\n",
      "dense_5 (Dense)              (None, 20)                10260     \n",
      "=================================================================\n",
      "Total params: 1,602,068\n",
      "Trainable params: 1,602,068\n",
      "Non-trainable params: 0\n",
      "_________________________________________________________________\n"
     ]
    }
   ],
   "source": [
    "#MLP\n",
    "\n",
    "MLP = Sequential()\n",
    "MLP.add(Dense(512, input_shape=(3108, ), activation='relu'))\n",
    "MLP.add(Dropout(0.5))\n",
    "MLP.add(Dense(y_train.shape[1], activation='softmax'))\n",
    "MLP.compile(loss='categorical_crossentropy', optimizer='adam', metrics=['accuracy'])\n",
    "\n",
    "MLP.summary()"
   ]
  },
  {
   "cell_type": "code",
   "execution_count": 129,
   "metadata": {},
   "outputs": [
    {
     "name": "stdout",
     "output_type": "stream",
     "text": [
      "Train on 27841 samples, validate on 11933 samples\n",
      "Epoch 1/50\n",
      "27841/27841 [==============================] - 19s 684us/step - loss: 0.7235 - acc: 0.7893 - val_loss: 0.7295 - val_acc: 0.7879\n",
      "\n",
      "Epoch 00001: val_acc improved from -inf to 0.78790, saving model to mlp\n",
      "Epoch 2/50\n",
      "27841/27841 [==============================] - 20s 718us/step - loss: 0.6324 - acc: 0.8116 - val_loss: 0.7006 - val_acc: 0.7917\n",
      "\n",
      "Epoch 00002: val_acc improved from 0.78790 to 0.79167, saving model to mlp\n",
      "Epoch 3/50\n",
      "27841/27841 [==============================] - 19s 680us/step - loss: 0.5748 - acc: 0.8251 - val_loss: 0.6894 - val_acc: 0.7918\n",
      "\n",
      "Epoch 00003: val_acc improved from 0.79167 to 0.79175, saving model to mlp\n",
      "Epoch 4/50\n",
      "27841/27841 [==============================] - 20s 709us/step - loss: 0.5306 - acc: 0.8393 - val_loss: 0.6853 - val_acc: 0.7928\n",
      "\n",
      "Epoch 00004: val_acc improved from 0.79175 to 0.79276, saving model to mlp\n",
      "Epoch 5/50\n",
      "27841/27841 [==============================] - 20s 708us/step - loss: 0.4969 - acc: 0.8475 - val_loss: 0.6850 - val_acc: 0.7940\n",
      "\n",
      "Epoch 00005: val_acc improved from 0.79276 to 0.79402, saving model to mlp\n",
      "Epoch 6/50\n",
      "27841/27841 [==============================] - 19s 697us/step - loss: 0.4705 - acc: 0.8545 - val_loss: 0.6879 - val_acc: 0.7953\n",
      "\n",
      "Epoch 00006: val_acc improved from 0.79402 to 0.79527, saving model to mlp\n",
      "Epoch 7/50\n",
      "27841/27841 [==============================] - 20s 702us/step - loss: 0.4441 - acc: 0.8637 - val_loss: 0.6924 - val_acc: 0.7941\n",
      "\n",
      "Epoch 00007: val_acc did not improve from 0.79527\n",
      "Epoch 8/50\n",
      "27841/27841 [==============================] - 19s 682us/step - loss: 0.4211 - acc: 0.8684 - val_loss: 0.6982 - val_acc: 0.7907\n",
      "\n",
      "Epoch 00008: val_acc did not improve from 0.79527\n",
      "Epoch 9/50\n",
      "27841/27841 [==============================] - 19s 683us/step - loss: 0.3987 - acc: 0.8779 - val_loss: 0.7053 - val_acc: 0.7915\n",
      "\n",
      "Epoch 00009: val_acc did not improve from 0.79527\n"
     ]
    }
   ],
   "source": [
    "#Training MLP\n",
    "\n",
    "file_path = \"mlp\"\n",
    "check_point = ModelCheckpoint(file_path, monitor=\"val_acc\", verbose=1, save_best_only=True, mode=\"max\")\n",
    "early_stop = EarlyStopping(monitor=\"val_acc\", mode=\"max\", patience=3)\n",
    "\n",
    "mlp_history = MLP.fit(x_train, \n",
    "                      y_train, \n",
    "                      batch_size=128, \n",
    "                      epochs=50, \n",
    "                      validation_data=(x_val, y_val),\n",
    "                      callbacks=[check_point, early_stop])"
   ]
  },
  {
   "cell_type": "code",
   "execution_count": 130,
   "metadata": {
    "collapsed": true
   },
   "outputs": [],
   "source": [
    "mlp_best = load_model('mlp')"
   ]
  },
  {
   "cell_type": "code",
   "execution_count": 131,
   "metadata": {},
   "outputs": [
    {
     "name": "stdout",
     "output_type": "stream",
     "text": [
      "__________________________________________________________________________________________________\n",
      "Layer (type)                    Output Shape         Param #     Connected to                     \n",
      "==================================================================================================\n",
      "input_2 (InputLayer)            (None, 3108)         0                                            \n",
      "__________________________________________________________________________________________________\n",
      "reshape_2 (Reshape)             (None, 7, 444)       0           input_2[0][0]                    \n",
      "__________________________________________________________________________________________________\n",
      "conv1d_4 (Conv1D)               (None, 7, 128)       113792      reshape_2[0][0]                  \n",
      "__________________________________________________________________________________________________\n",
      "conv1d_5 (Conv1D)               (None, 7, 128)       170624      reshape_2[0][0]                  \n",
      "__________________________________________________________________________________________________\n",
      "conv1d_6 (Conv1D)               (None, 7, 128)       227456      reshape_2[0][0]                  \n",
      "__________________________________________________________________________________________________\n",
      "max_pooling1d_4 (MaxPooling1D)  (None, 2, 128)       0           conv1d_4[0][0]                   \n",
      "__________________________________________________________________________________________________\n",
      "max_pooling1d_5 (MaxPooling1D)  (None, 2, 128)       0           conv1d_5[0][0]                   \n",
      "__________________________________________________________________________________________________\n",
      "max_pooling1d_6 (MaxPooling1D)  (None, 2, 128)       0           conv1d_6[0][0]                   \n",
      "__________________________________________________________________________________________________\n",
      "dropout_7 (Dropout)             (None, 2, 128)       0           max_pooling1d_4[0][0]            \n",
      "__________________________________________________________________________________________________\n",
      "dropout_8 (Dropout)             (None, 2, 128)       0           max_pooling1d_5[0][0]            \n",
      "__________________________________________________________________________________________________\n",
      "dropout_9 (Dropout)             (None, 2, 128)       0           max_pooling1d_6[0][0]            \n",
      "__________________________________________________________________________________________________\n",
      "concatenate_2 (Concatenate)     (None, 2, 384)       0           dropout_7[0][0]                  \n",
      "                                                                 dropout_8[0][0]                  \n",
      "                                                                 dropout_9[0][0]                  \n",
      "__________________________________________________________________________________________________\n",
      "flatten_2 (Flatten)             (None, 768)          0           concatenate_2[0][0]              \n",
      "__________________________________________________________________________________________________\n",
      "dropout_10 (Dropout)            (None, 768)          0           flatten_2[0][0]                  \n",
      "__________________________________________________________________________________________________\n",
      "dense_6 (Dense)                 (None, 20)           15380       dropout_10[0][0]                 \n",
      "==================================================================================================\n",
      "Total params: 527,252\n",
      "Trainable params: 527,252\n",
      "Non-trainable params: 0\n",
      "__________________________________________________________________________________________________\n"
     ]
    }
   ],
   "source": [
    "#CNN 1D\n",
    "\n",
    "inp = Input(shape=(3108,), dtype='float32')\n",
    "reshape = Reshape(target_shape=(7,444))(inp)\n",
    "\n",
    "stacks = []\n",
    "for kernel_size in [2, 3, 4]:\n",
    "    conv = Conv1D(128, kernel_size, padding='same', activation='relu', strides=1)(reshape)\n",
    "    pool = MaxPooling1D(pool_size=3)(conv)\n",
    "    drop = Dropout(0.5)(pool)\n",
    "    stacks.append(drop)\n",
    "\n",
    "merged = Concatenate()(stacks)\n",
    "flatten = Flatten()(merged)\n",
    "drop = Dropout(0.5)(flatten)\n",
    "outp = Dense(y_train.shape[1], activation='softmax')(drop)\n",
    "\n",
    "TextCNN = Model(inputs=inp, outputs=outp)\n",
    "TextCNN.compile(loss='categorical_crossentropy', optimizer='adam', metrics=['accuracy'])\n",
    "\n",
    "TextCNN.summary()"
   ]
  },
  {
   "cell_type": "code",
   "execution_count": 132,
   "metadata": {},
   "outputs": [
    {
     "name": "stdout",
     "output_type": "stream",
     "text": [
      "Train on 27841 samples, validate on 11933 samples\n",
      "Epoch 1/50\n",
      "27841/27841 [==============================] - 26s 922us/step - loss: 2.1242 - acc: 0.4180 - val_loss: 1.5325 - val_acc: 0.5865\n",
      "\n",
      "Epoch 00001: val_acc improved from -inf to 0.58652, saving model to textcnn\n",
      "Epoch 2/50\n",
      "27841/27841 [==============================] - 27s 970us/step - loss: 1.3209 - acc: 0.6294 - val_loss: 1.1336 - val_acc: 0.6762\n",
      "\n",
      "Epoch 00002: val_acc improved from 0.58652 to 0.67619, saving model to textcnn\n",
      "Epoch 3/50\n",
      "27841/27841 [==============================] - 27s 965us/step - loss: 1.0730 - acc: 0.6920 - val_loss: 0.9833 - val_acc: 0.7119\n",
      "\n",
      "Epoch 00003: val_acc improved from 0.67619 to 0.71189, saving model to textcnn\n",
      "Epoch 4/50\n",
      "27841/27841 [==============================] - 27s 983us/step - loss: 0.9484 - acc: 0.7259 - val_loss: 0.9009 - val_acc: 0.7369\n",
      "\n",
      "Epoch 00004: val_acc improved from 0.71189 to 0.73695, saving model to textcnn\n",
      "Epoch 5/50\n",
      "27841/27841 [==============================] - 27s 979us/step - loss: 0.8685 - acc: 0.7466 - val_loss: 0.8448 - val_acc: 0.7544\n",
      "\n",
      "Epoch 00005: val_acc improved from 0.73695 to 0.75438, saving model to textcnn\n",
      "Epoch 6/50\n",
      "27841/27841 [==============================] - 27s 967us/step - loss: 0.8101 - acc: 0.7646 - val_loss: 0.8087 - val_acc: 0.7665\n",
      "\n",
      "Epoch 00006: val_acc improved from 0.75438 to 0.76653, saving model to textcnn\n",
      "Epoch 7/50\n",
      "27841/27841 [==============================] - 27s 960us/step - loss: 0.7570 - acc: 0.7792 - val_loss: 0.7808 - val_acc: 0.7717\n",
      "\n",
      "Epoch 00007: val_acc improved from 0.76653 to 0.77173, saving model to textcnn\n",
      "Epoch 8/50\n",
      "27841/27841 [==============================] - 28s 990us/step - loss: 0.7165 - acc: 0.7906 - val_loss: 0.7595 - val_acc: 0.7775\n",
      "\n",
      "Epoch 00008: val_acc improved from 0.77173 to 0.77751, saving model to textcnn\n",
      "Epoch 9/50\n",
      "27841/27841 [==============================] - 27s 985us/step - loss: 0.6883 - acc: 0.7969 - val_loss: 0.7429 - val_acc: 0.7824\n",
      "\n",
      "Epoch 00009: val_acc improved from 0.77751 to 0.78237, saving model to textcnn\n",
      "Epoch 10/50\n",
      "27841/27841 [==============================] - 28s 1ms/step - loss: 0.6565 - acc: 0.8068 - val_loss: 0.7310 - val_acc: 0.7854\n",
      "\n",
      "Epoch 00010: val_acc improved from 0.78237 to 0.78539, saving model to textcnn\n",
      "Epoch 11/50\n",
      "27841/27841 [==============================] - 27s 970us/step - loss: 0.6310 - acc: 0.8131 - val_loss: 0.7203 - val_acc: 0.7898\n",
      "\n",
      "Epoch 00011: val_acc improved from 0.78539 to 0.78983, saving model to textcnn\n",
      "Epoch 12/50\n",
      "27841/27841 [==============================] - 27s 982us/step - loss: 0.6048 - acc: 0.8215 - val_loss: 0.7136 - val_acc: 0.7895\n",
      "\n",
      "Epoch 00012: val_acc did not improve from 0.78983\n",
      "Epoch 13/50\n",
      "27841/27841 [==============================] - 27s 964us/step - loss: 0.5802 - acc: 0.8296 - val_loss: 0.7060 - val_acc: 0.7923\n",
      "\n",
      "Epoch 00013: val_acc improved from 0.78983 to 0.79234, saving model to textcnn\n",
      "Epoch 14/50\n",
      "27841/27841 [==============================] - 27s 974us/step - loss: 0.5681 - acc: 0.8311 - val_loss: 0.7021 - val_acc: 0.7933\n",
      "\n",
      "Epoch 00014: val_acc improved from 0.79234 to 0.79335, saving model to textcnn\n",
      "Epoch 15/50\n",
      "27841/27841 [==============================] - 28s 996us/step - loss: 0.5493 - acc: 0.8379 - val_loss: 0.6958 - val_acc: 0.7949\n",
      "\n",
      "Epoch 00015: val_acc improved from 0.79335 to 0.79494, saving model to textcnn\n",
      "Epoch 16/50\n",
      "27841/27841 [==============================] - 28s 996us/step - loss: 0.5273 - acc: 0.8435 - val_loss: 0.6921 - val_acc: 0.7949\n",
      "\n",
      "Epoch 00016: val_acc did not improve from 0.79494\n",
      "Epoch 17/50\n",
      "27841/27841 [==============================] - 27s 962us/step - loss: 0.5165 - acc: 0.8463 - val_loss: 0.6908 - val_acc: 0.7959\n",
      "\n",
      "Epoch 00017: val_acc improved from 0.79494 to 0.79594, saving model to textcnn\n",
      "Epoch 18/50\n",
      "27841/27841 [==============================] - 27s 969us/step - loss: 0.4982 - acc: 0.8517 - val_loss: 0.6867 - val_acc: 0.7972\n",
      "\n",
      "Epoch 00018: val_acc improved from 0.79594 to 0.79720, saving model to textcnn\n",
      "Epoch 19/50\n",
      "27841/27841 [==============================] - 27s 983us/step - loss: 0.4855 - acc: 0.8545 - val_loss: 0.6829 - val_acc: 0.7963\n",
      "\n",
      "Epoch 00019: val_acc did not improve from 0.79720\n",
      "Epoch 20/50\n",
      "27841/27841 [==============================] - 27s 964us/step - loss: 0.4668 - acc: 0.8600 - val_loss: 0.6827 - val_acc: 0.7968\n",
      "\n",
      "Epoch 00020: val_acc did not improve from 0.79720\n",
      "Epoch 21/50\n",
      "27841/27841 [==============================] - 27s 981us/step - loss: 0.4526 - acc: 0.8626 - val_loss: 0.6853 - val_acc: 0.7967\n",
      "\n",
      "Epoch 00021: val_acc did not improve from 0.79720\n"
     ]
    }
   ],
   "source": [
    "#Trainin CNN 1D\n",
    "\n",
    "file_path = \"textcnn\"\n",
    "check_point = ModelCheckpoint(file_path, monitor=\"val_acc\", verbose=1, save_best_only=True, mode=\"max\")\n",
    "early_stop = EarlyStopping(monitor=\"val_acc\", mode=\"max\", patience=3)\n",
    "\n",
    "textcnn_history = TextCNN.fit(x_train, \n",
    "                              y_train, \n",
    "                              batch_size=128, \n",
    "                              epochs=50, \n",
    "                              validation_data=(x_val, y_val),\n",
    "                              callbacks=[check_point, early_stop])"
   ]
  },
  {
   "cell_type": "code",
   "execution_count": 133,
   "metadata": {
    "collapsed": true
   },
   "outputs": [],
   "source": [
    "textcnn_best = load_model('textcnn')"
   ]
  },
  {
   "cell_type": "code",
   "execution_count": 134,
   "metadata": {},
   "outputs": [
    {
     "name": "stderr",
     "output_type": "stream",
     "text": [
      "C:\\Users\\SUVID ANAND\\ANACONDA\\lib\\site-packages\\sklearn\\preprocessing\\label.py:151: DeprecationWarning: The truth value of an empty array is ambiguous. Returning False, but in future this will result in an error. Use `array.size > 0` to check that an array is not empty.\n",
      "  if diff:\n"
     ]
    }
   ],
   "source": [
    "#Prediction\n",
    "\n",
    "mlp_pred = mlp_best.predict(x_test)\n",
    "textcnn_pred = textcnn_best.predict(x_test)\n",
    "\n",
    "ensemble_pred = (mlp_pred + textcnn_pred).argmax(axis=1)\n",
    "final = lb.inverse_transform(ensemble_pred)"
   ]
  },
  {
   "cell_type": "code",
   "execution_count": 136,
   "metadata": {},
   "outputs": [],
   "source": [
    "#csv file\n",
    "\n",
    "sub = pd.DataFrame({'id': df_test.id, 'cuisine': final})\n",
    "sub.to_csv('submission.csv', index = False)"
   ]
  },
  {
   "cell_type": "code",
   "execution_count": null,
   "metadata": {
    "collapsed": true
   },
   "outputs": [],
   "source": []
  },
  {
   "cell_type": "code",
   "execution_count": null,
   "metadata": {
    "collapsed": true
   },
   "outputs": [],
   "source": []
  }
 ],
 "metadata": {
  "kernelspec": {
   "display_name": "Python 3",
   "language": "python",
   "name": "python3"
  },
  "language_info": {
   "codemirror_mode": {
    "name": "ipython",
    "version": 3
   },
   "file_extension": ".py",
   "mimetype": "text/x-python",
   "name": "python",
   "nbconvert_exporter": "python",
   "pygments_lexer": "ipython3",
   "version": "3.6.3"
  }
 },
 "nbformat": 4,
 "nbformat_minor": 2
}
